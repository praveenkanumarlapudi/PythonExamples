{
 "cells": [
  {
   "cell_type": "markdown",
   "metadata": {},
   "source": [
    "#Genenral syntax\n",
    "while testcondition:\n",
    "    execute statements when conditions met\n",
    "else:\n",
    "    final code statements"
   ]
  },
  {
   "cell_type": "code",
   "execution_count": 1,
   "metadata": {},
   "outputs": [
    {
     "name": "stdout",
     "output_type": "stream",
     "text": [
      "X is currently :0\n",
      "X is currently :1\n",
      "X is currently :2\n",
      "X is currently :3\n",
      "X is currently :4\n",
      "X is currently :5\n",
      "X is currently :6\n",
      "X is currently :7\n",
      "X is currently :8\n",
      "X is currently :9\n"
     ]
    }
   ],
   "source": [
    "x = 0\n",
    "while x<10:\n",
    "    print 'X is currently :%s'%(x)\n",
    "    x += 1    "
   ]
  },
  {
   "cell_type": "code",
   "execution_count": 2,
   "metadata": {},
   "outputs": [
    {
     "name": "stdout",
     "output_type": "stream",
     "text": [
      "X Values is  0\n",
      "X Values is  1\n",
      "X Values is  2\n",
      "X Values is  3\n",
      "X Values is  4\n",
      "X Values is  5\n",
      "X Values is  6\n",
      "X Values is  7\n",
      "X Values is  8\n",
      "X Values is  9\n",
      "All Done\n"
     ]
    }
   ],
   "source": [
    "x = 0\n",
    "while x < 10:\n",
    "    print 'X Values is ',x\n",
    "    x += 1\n",
    "else:\n",
    "    print 'All Done'"
   ]
  },
  {
   "cell_type": "markdown",
   "metadata": {},
   "source": [
    "Break Continue and Pass"
   ]
  },
  {
   "cell_type": "markdown",
   "metadata": {},
   "source": [
    "Break - Breaks out of the loop indefinetly\n",
    "Continue - stats loop from 1st instruction again\n",
    "pass - does nothing at all"
   ]
  },
  {
   "cell_type": "code",
   "execution_count": 4,
   "metadata": {},
   "outputs": [
    {
     "name": "stdout",
     "output_type": "stream",
     "text": [
      "x Values is  0\n",
      "x is still less than 10 adding 1 to : 0\n",
      "Continuing ...\n",
      "x Values is  1\n",
      "x is still less than 10 adding 1 to : 1\n",
      "Continuing ...\n",
      "x Values is  2\n",
      "x is still less than 10 adding 1 to : 2\n",
      "Hey! x is 3 now\n",
      "x Values is  3\n",
      "x is still less than 10 adding 1 to : 3\n",
      "Continuing ...\n",
      "x Values is  4\n",
      "x is still less than 10 adding 1 to : 4\n",
      "Continuing ...\n",
      "x Values is  5\n",
      "x is still less than 10 adding 1 to : 5\n",
      "Continuing ...\n",
      "x Values is  6\n",
      "x is still less than 10 adding 1 to : 6\n",
      "Continuing ...\n",
      "x Values is  7\n",
      "x is still less than 10 adding 1 to : 7\n",
      "Continuing ...\n",
      "x Values is  8\n",
      "x is still less than 10 adding 1 to : 8\n",
      "Continuing ...\n",
      "x Values is  9\n",
      "x is still less than 10 adding 1 to : 9\n",
      "Continuing ...\n"
     ]
    }
   ],
   "source": [
    "x = 0\n",
    "while x < 10:\n",
    "    print 'x Values is ',x\n",
    "    print 'x is still less than 10 adding 1 to :',x\n",
    "    x += 1 \n",
    "    if x==3:\n",
    "        print 'Hey! x is 3 now'\n",
    "    else:\n",
    "        print 'Continuing ...'\n",
    "        continue\n",
    "    \n"
   ]
  },
  {
   "cell_type": "code",
   "execution_count": 5,
   "metadata": {},
   "outputs": [
    {
     "name": "stdout",
     "output_type": "stream",
     "text": [
      "x Values is  0\n",
      "x is still less than 10 adding 1 to : 0\n",
      "Continuing ...\n",
      "x Values is  1\n",
      "x is still less than 10 adding 1 to : 1\n",
      "Continuing ...\n",
      "x Values is  2\n",
      "x is still less than 10 adding 1 to : 2\n",
      "Hey! x is 3 now\n",
      "I am breaking ..\n"
     ]
    }
   ],
   "source": [
    "x = 0\n",
    "while x < 10:\n",
    "    print 'x Values is ',x\n",
    "    print 'x is still less than 10 adding 1 to :',x\n",
    "    x += 1 \n",
    "    if x==3:\n",
    "        print 'Hey! x is 3 now'\n",
    "        print 'I am breaking ..'\n",
    "        break\n",
    "    else:\n",
    "        print 'Continuing ...'\n",
    "        continue"
   ]
  },
  {
   "cell_type": "code",
   "execution_count": null,
   "metadata": {
    "collapsed": true
   },
   "outputs": [],
   "source": []
  }
 ],
 "metadata": {
  "kernelspec": {
   "display_name": "Python 2",
   "language": "python",
   "name": "python2"
  },
  "language_info": {
   "codemirror_mode": {
    "name": "ipython",
    "version": 2
   },
   "file_extension": ".py",
   "mimetype": "text/x-python",
   "name": "python",
   "nbconvert_exporter": "python",
   "pygments_lexer": "ipython2",
   "version": "2.7.13"
  }
 },
 "nbformat": 4,
 "nbformat_minor": 2
}
