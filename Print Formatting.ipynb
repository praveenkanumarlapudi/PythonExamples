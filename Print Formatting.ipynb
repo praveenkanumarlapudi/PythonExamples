{
 "cells": [
  {
   "cell_type": "raw",
   "metadata": {},
   "source": [
    "# Print Formatting"
   ]
  },
  {
   "cell_type": "code",
   "execution_count": 1,
   "metadata": {},
   "outputs": [
    {
     "name": "stdout",
     "output_type": "stream",
     "text": [
      "This is a String\n"
     ]
    }
   ],
   "source": [
    "print 'This is a String'"
   ]
  },
  {
   "cell_type": "code",
   "execution_count": 5,
   "metadata": {},
   "outputs": [
    {
     "name": "stdout",
     "output_type": "stream",
     "text": [
      "Printing Assigned Value\n"
     ]
    }
   ],
   "source": [
    "s = 'Assigned Value'\n",
    "\n",
    "print 'Printing %s' %(s)"
   ]
  },
  {
   "cell_type": "code",
   "execution_count": 7,
   "metadata": {},
   "outputs": [
    {
     "name": "stdout",
     "output_type": "stream",
     "text": [
      "Printing 3.13\n"
     ]
    }
   ],
   "source": [
    "# you can have any type of value that can convert into String \n",
    "\n",
    "x = 3.13\n",
    "print 'Printing %s' %(x)\n",
    "\n",
    "# here X is a floating point value that is still converted into String format while Printing\n"
   ]
  },
  {
   "cell_type": "code",
   "execution_count": 10,
   "metadata": {},
   "outputs": [
    {
     "ename": "TypeError",
     "evalue": "float argument required, not str",
     "output_type": "error",
     "traceback": [
      "\u001b[0;31m---------------------------------------------------------------------------\u001b[0m",
      "\u001b[0;31mTypeError\u001b[0m                                 Traceback (most recent call last)",
      "\u001b[0;32m<ipython-input-10-674df2229076>\u001b[0m in \u001b[0;36m<module>\u001b[0;34m()\u001b[0m\n\u001b[1;32m      2\u001b[0m \u001b[0mx\u001b[0m \u001b[0;34m=\u001b[0m \u001b[0;34m'Hello'\u001b[0m\u001b[0;34m\u001b[0m\u001b[0m\n\u001b[1;32m      3\u001b[0m \u001b[0;34m\u001b[0m\u001b[0m\n\u001b[0;32m----> 4\u001b[0;31m \u001b[0;32mprint\u001b[0m \u001b[0;34m'Hi %f'\u001b[0m \u001b[0;34m%\u001b[0m\u001b[0;34m(\u001b[0m\u001b[0mx\u001b[0m\u001b[0;34m)\u001b[0m\u001b[0;34m\u001b[0m\u001b[0m\n\u001b[0m",
      "\u001b[0;31mTypeError\u001b[0m: float argument required, not str"
     ]
    }
   ],
   "source": [
    "# Vice versa is not possible, means you cannot convert a String value to Floating point format and Print\n",
    "x = 'Hello'\n",
    "\n",
    "print 'Hi %f' %(x)"
   ]
  },
  {
   "cell_type": "code",
   "execution_count": 15,
   "metadata": {},
   "outputs": [
    {
     "name": "stdout",
     "output_type": "stream",
     "text": [
      "Floating point number 13.45\n"
     ]
    }
   ],
   "source": [
    "x = 13.45234\n",
    "\n",
    "print 'Floating point number %1.2f' %(x)\n",
    "\n",
    "#Here '1' in 1.2f represent the minimum number of digits should be present and \n",
    "#'2' in 1.2f represent max number of digits should be present after decimal"
   ]
  },
  {
   "cell_type": "code",
   "execution_count": 17,
   "metadata": {},
   "outputs": [
    {
     "name": "stdout",
     "output_type": "stream",
     "text": [
      "Floating point number:              13.4523\n"
     ]
    }
   ],
   "source": [
    "print 'Floating point number: %20.4f' %(x)\n",
    "\n",
    "#observe 18 empty spaces after ':' to make minimum number of character to '20' from 20.2f"
   ]
  },
  {
   "cell_type": "code",
   "execution_count": 18,
   "metadata": {},
   "outputs": [
    {
     "name": "stdout",
     "output_type": "stream",
     "text": [
      "First:Assigned Value, Second: 13.45234, Third:Hi!\n"
     ]
    }
   ],
   "source": [
    "#Printing multiple values\n",
    "print 'First:%s, Second: %s, Third:%s' %(s,x,'Hi!')"
   ]
  },
  {
   "cell_type": "code",
   "execution_count": 19,
   "metadata": {},
   "outputs": [
    {
     "name": "stdout",
     "output_type": "stream",
     "text": [
      "First: Hi! second: Hi!\n"
     ]
    }
   ],
   "source": [
    "#Format meathod is also used for the same purpose for printing multiple values\n",
    "print 'First: {x} second: {x}'.format(x='Hi!')"
   ]
  },
  {
   "cell_type": "code",
   "execution_count": 20,
   "metadata": {},
   "outputs": [
    {
     "name": "stdout",
     "output_type": "stream",
     "text": [
      "First: XYZ Third: ABC\n"
     ]
    }
   ],
   "source": [
    "# you can play with Order of the arguments\n",
    "print 'First: {y} Third: {x}'.format(x='ABC',y='XYZ')"
   ]
  },
  {
   "cell_type": "code",
   "execution_count": 21,
   "metadata": {
    "collapsed": true
   },
   "outputs": [],
   "source": [
    "#In Python 3 Print is Function\n",
    "from __future__ import print_function"
   ]
  },
  {
   "cell_type": "code",
   "execution_count": 22,
   "metadata": {},
   "outputs": [
    {
     "name": "stdout",
     "output_type": "stream",
     "text": [
      "Hello World from python 3!\n"
     ]
    }
   ],
   "source": [
    "print('Hello World from python 3!')"
   ]
  }
 ],
 "metadata": {
  "kernelspec": {
   "display_name": "Python 2",
   "language": "python",
   "name": "python2"
  },
  "language_info": {
   "codemirror_mode": {
    "name": "ipython",
    "version": 2
   },
   "file_extension": ".py",
   "mimetype": "text/x-python",
   "name": "python",
   "nbconvert_exporter": "python",
   "pygments_lexer": "ipython2",
   "version": "2.7.13"
  }
 },
 "nbformat": 4,
 "nbformat_minor": 2
}
