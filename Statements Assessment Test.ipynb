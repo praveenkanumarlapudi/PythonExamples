{
 "cells": [
  {
   "cell_type": "markdown",
   "metadata": {
    "collapsed": true
   },
   "source": [
    "# Statements Assessment Test\n",
    "Lets test your knowledge!"
   ]
  },
  {
   "cell_type": "markdown",
   "metadata": {},
   "source": [
    "_____\n",
    "**Use for, split(), and if to create a Statement that will print out words that start with 's':**"
   ]
  },
  {
   "cell_type": "code",
   "execution_count": 1,
   "metadata": {
    "collapsed": true
   },
   "outputs": [],
   "source": [
    "st = 'Print only the words that start with s in this sentence'"
   ]
  },
  {
   "cell_type": "code",
   "execution_count": 3,
   "metadata": {},
   "outputs": [
    {
     "name": "stdout",
     "output_type": "stream",
     "text": [
      "['start', 's', 'sentence']\n"
     ]
    }
   ],
   "source": [
    "#Code here\n",
    "lst = [word for word in st.split() if word[0] == 's']\n",
    "print lst"
   ]
  },
  {
   "cell_type": "code",
   "execution_count": 6,
   "metadata": {},
   "outputs": [
    {
     "name": "stdout",
     "output_type": "stream",
     "text": [
      "start\n",
      "s\n",
      "sentence\n"
     ]
    }
   ],
   "source": [
    "#Code here Method 2\n",
    "listofwords = st.split()\n",
    "for word in listofwords:\n",
    "    if word[0] == 's':\n",
    "        print word\n",
    "    \n"
   ]
  },
  {
   "cell_type": "markdown",
   "metadata": {},
   "source": [
    "______\n",
    "**Use range() to print all the even numbers from 0 to 10.**"
   ]
  },
  {
   "cell_type": "code",
   "execution_count": 22,
   "metadata": {},
   "outputs": [
    {
     "name": "stdout",
     "output_type": "stream",
     "text": [
      "0\n",
      "2\n",
      "4\n",
      "6\n",
      "8\n",
      "10\n"
     ]
    }
   ],
   "source": [
    "#Code Here\n",
    "for number in range(0,11,2):\n",
    "    print number"
   ]
  },
  {
   "cell_type": "markdown",
   "metadata": {},
   "source": [
    "___\n",
    "**Use List comprehension to create a list of all numbers between 1 and 50 that are divisible by 3.**"
   ]
  },
  {
   "cell_type": "code",
   "execution_count": 10,
   "metadata": {},
   "outputs": [
    {
     "name": "stdout",
     "output_type": "stream",
     "text": [
      "[3, 6, 9, 12, 15, 18, 21, 24, 27, 30, 33, 36, 39, 42, 45, 48]\n"
     ]
    }
   ],
   "source": [
    "#Code in this cell\n",
    "lst = [number for number in range(1,50) if number%3 == 0]\n",
    "print lst"
   ]
  },
  {
   "cell_type": "markdown",
   "metadata": {},
   "source": [
    "_____\n",
    "**Go through the string below and if the length of a word is even print \"even!\"**"
   ]
  },
  {
   "cell_type": "code",
   "execution_count": 6,
   "metadata": {
    "collapsed": true
   },
   "outputs": [],
   "source": [
    "st = 'Print every word in this sentence that has an even number of letters'"
   ]
  },
  {
   "cell_type": "code",
   "execution_count": 11,
   "metadata": {},
   "outputs": [
    {
     "name": "stdout",
     "output_type": "stream",
     "text": [
      "['only', 'that', 'with', 'in', 'this', 'sentence']\n"
     ]
    }
   ],
   "source": [
    "#Code in this cell\n",
    "lst = [word for word in st.split() if len(word) % 2 == 0]\n",
    "print lst"
   ]
  },
  {
   "cell_type": "markdown",
   "metadata": {},
   "source": [
    "____\n",
    "**Write a program that prints the integers from 1 to 100. But for multiples of three print \"Fizz\" instead of the number, and for the multiples of five print \"Buzz\". For numbers which are multiples of both three and five print \"FizzBuzz\".**"
   ]
  },
  {
   "cell_type": "code",
   "execution_count": 16,
   "metadata": {},
   "outputs": [
    {
     "name": "stdout",
     "output_type": "stream",
     "text": [
      "Here is the number 3 and String Buzz\n",
      "Here is the number 5 and String Fizz\n",
      "Here is the number 6 and String Buzz\n",
      "Here is the number 9 and String Buzz\n",
      "Here is the number 10 and String Fizz\n",
      "Here is the number 12 and String Buzz\n",
      "Here is the number 15 and String FizzBuzz\n",
      "Here is the number 18 and String Buzz\n",
      "Here is the number 20 and String Fizz\n",
      "Here is the number 21 and String Buzz\n",
      "Here is the number 24 and String Buzz\n",
      "Here is the number 25 and String Fizz\n",
      "Here is the number 27 and String Buzz\n",
      "Here is the number 30 and String FizzBuzz\n",
      "Here is the number 33 and String Buzz\n",
      "Here is the number 35 and String Fizz\n",
      "Here is the number 36 and String Buzz\n",
      "Here is the number 39 and String Buzz\n",
      "Here is the number 40 and String Fizz\n",
      "Here is the number 42 and String Buzz\n",
      "Here is the number 45 and String FizzBuzz\n",
      "Here is the number 48 and String Buzz\n",
      "Here is the number 50 and String Fizz\n",
      "Here is the number 51 and String Buzz\n",
      "Here is the number 54 and String Buzz\n",
      "Here is the number 55 and String Fizz\n",
      "Here is the number 57 and String Buzz\n",
      "Here is the number 60 and String FizzBuzz\n",
      "Here is the number 63 and String Buzz\n",
      "Here is the number 65 and String Fizz\n",
      "Here is the number 66 and String Buzz\n",
      "Here is the number 69 and String Buzz\n",
      "Here is the number 70 and String Fizz\n",
      "Here is the number 72 and String Buzz\n",
      "Here is the number 75 and String FizzBuzz\n",
      "Here is the number 78 and String Buzz\n",
      "Here is the number 80 and String Fizz\n",
      "Here is the number 81 and String Buzz\n",
      "Here is the number 84 and String Buzz\n",
      "Here is the number 85 and String Fizz\n",
      "Here is the number 87 and String Buzz\n",
      "Here is the number 90 and String FizzBuzz\n",
      "Here is the number 93 and String Buzz\n",
      "Here is the number 95 and String Fizz\n",
      "Here is the number 96 and String Buzz\n",
      "Here is the number 99 and String Buzz\n"
     ]
    }
   ],
   "source": [
    "#Code in this cell\n",
    "for number in range(1,100):\n",
    "    if number % 3 == 0:\n",
    "        if number % 5 == 0:\n",
    "            print 'Here is the number %s and String FizzBuzz' %(number)\n",
    "        else:\n",
    "            print 'Here is the number %s and String Buzz' %(number)\n",
    "    elif number % 5 == 0:\n",
    "        print 'Here is the number %s and String Fizz'%(number)\n",
    "\n",
    "        "
   ]
  },
  {
   "cell_type": "markdown",
   "metadata": {},
   "source": [
    "____\n",
    "**Use List Comprehension to create a list of the first letters of every word in the string below:**"
   ]
  },
  {
   "cell_type": "code",
   "execution_count": 24,
   "metadata": {
    "collapsed": true
   },
   "outputs": [],
   "source": [
    "st = 'Create a list of the first letters of every word in this string'"
   ]
  },
  {
   "cell_type": "code",
   "execution_count": 25,
   "metadata": {},
   "outputs": [
    {
     "data": {
      "text/plain": [
       "['C', 'a', 'l', 'o', 't', 'f', 'l', 'o', 'e', 'w', 'i', 't', 's']"
      ]
     },
     "execution_count": 25,
     "metadata": {},
     "output_type": "execute_result"
    }
   ],
   "source": [
    "#Code in this cell\n",
    "[word[0] for word in st.split()]"
   ]
  },
  {
   "cell_type": "markdown",
   "metadata": {},
   "source": [
    "### Great Job!"
   ]
  }
 ],
 "metadata": {
  "kernelspec": {
   "display_name": "Python 2",
   "language": "python",
   "name": "python2"
  },
  "language_info": {
   "codemirror_mode": {
    "name": "ipython",
    "version": 2
   },
   "file_extension": ".py",
   "mimetype": "text/x-python",
   "name": "python",
   "nbconvert_exporter": "python",
   "pygments_lexer": "ipython2",
   "version": "2.7.13"
  }
 },
 "nbformat": 4,
 "nbformat_minor": 1
}
